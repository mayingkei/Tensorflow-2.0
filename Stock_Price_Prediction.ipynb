{
  "nbformat": 4,
  "nbformat_minor": 0,
  "metadata": {
    "colab": {
      "name": "Stock Price Prediction.ipynb",
      "provenance": [],
      "collapsed_sections": []
    },
    "kernelspec": {
      "name": "python3",
      "display_name": "Python 3"
    },
    "language_info": {
      "name": "python"
    }
  },
  "cells": [
    {
      "cell_type": "code",
      "metadata": {
        "id": "8Bh_VtBz3vjW"
      },
      "source": [
        "import math\n",
        "import pandas as pd\n",
        "import pandas_datareader as web\n",
        "import numpy as np\n",
        "import matplotlib.pyplot as plt\n",
        "from sklearn.preprocessing import MinMaxScaler\n",
        "import tensorflow as tf\n",
        "from keras.models import Sequential\n",
        "from keras.layers import Dense, LSTM"
      ],
      "execution_count": 27,
      "outputs": []
    },
    {
      "cell_type": "code",
      "metadata": {
        "colab": {
          "base_uri": "https://localhost:8080/",
          "height": 447
        },
        "id": "Yd627IeV4Sk9",
        "outputId": "dc7fc92e-6707-4f71-d4f6-b582f08c6325"
      },
      "source": [
        "df = web.DataReader('MSFT', data_source='yahoo', start='2012-01-01', end='2021-05-20')\n",
        "df"
      ],
      "execution_count": 28,
      "outputs": [
        {
          "output_type": "execute_result",
          "data": {
            "text/html": [
              "<div>\n",
              "<style scoped>\n",
              "    .dataframe tbody tr th:only-of-type {\n",
              "        vertical-align: middle;\n",
              "    }\n",
              "\n",
              "    .dataframe tbody tr th {\n",
              "        vertical-align: top;\n",
              "    }\n",
              "\n",
              "    .dataframe thead th {\n",
              "        text-align: right;\n",
              "    }\n",
              "</style>\n",
              "<table border=\"1\" class=\"dataframe\">\n",
              "  <thead>\n",
              "    <tr style=\"text-align: right;\">\n",
              "      <th></th>\n",
              "      <th>High</th>\n",
              "      <th>Low</th>\n",
              "      <th>Open</th>\n",
              "      <th>Close</th>\n",
              "      <th>Volume</th>\n",
              "      <th>Adj Close</th>\n",
              "    </tr>\n",
              "    <tr>\n",
              "      <th>Date</th>\n",
              "      <th></th>\n",
              "      <th></th>\n",
              "      <th></th>\n",
              "      <th></th>\n",
              "      <th></th>\n",
              "      <th></th>\n",
              "    </tr>\n",
              "  </thead>\n",
              "  <tbody>\n",
              "    <tr>\n",
              "      <th>2012-01-03</th>\n",
              "      <td>26.959999</td>\n",
              "      <td>26.389999</td>\n",
              "      <td>26.549999</td>\n",
              "      <td>26.770000</td>\n",
              "      <td>64731500.0</td>\n",
              "      <td>21.749044</td>\n",
              "    </tr>\n",
              "    <tr>\n",
              "      <th>2012-01-04</th>\n",
              "      <td>27.469999</td>\n",
              "      <td>26.780001</td>\n",
              "      <td>26.820000</td>\n",
              "      <td>27.400000</td>\n",
              "      <td>80516100.0</td>\n",
              "      <td>22.260885</td>\n",
              "    </tr>\n",
              "    <tr>\n",
              "      <th>2012-01-05</th>\n",
              "      <td>27.730000</td>\n",
              "      <td>27.290001</td>\n",
              "      <td>27.379999</td>\n",
              "      <td>27.680000</td>\n",
              "      <td>56081400.0</td>\n",
              "      <td>22.488358</td>\n",
              "    </tr>\n",
              "    <tr>\n",
              "      <th>2012-01-06</th>\n",
              "      <td>28.190001</td>\n",
              "      <td>27.530001</td>\n",
              "      <td>27.530001</td>\n",
              "      <td>28.110001</td>\n",
              "      <td>99455500.0</td>\n",
              "      <td>22.837715</td>\n",
              "    </tr>\n",
              "    <tr>\n",
              "      <th>2012-01-09</th>\n",
              "      <td>28.100000</td>\n",
              "      <td>27.719999</td>\n",
              "      <td>28.049999</td>\n",
              "      <td>27.740000</td>\n",
              "      <td>59706800.0</td>\n",
              "      <td>22.537107</td>\n",
              "    </tr>\n",
              "    <tr>\n",
              "      <th>...</th>\n",
              "      <td>...</td>\n",
              "      <td>...</td>\n",
              "      <td>...</td>\n",
              "      <td>...</td>\n",
              "      <td>...</td>\n",
              "      <td>...</td>\n",
              "    </tr>\n",
              "    <tr>\n",
              "      <th>2021-05-14</th>\n",
              "      <td>249.179993</td>\n",
              "      <td>245.490005</td>\n",
              "      <td>245.580002</td>\n",
              "      <td>248.149994</td>\n",
              "      <td>23901100.0</td>\n",
              "      <td>247.578308</td>\n",
              "    </tr>\n",
              "    <tr>\n",
              "      <th>2021-05-17</th>\n",
              "      <td>246.589996</td>\n",
              "      <td>243.520004</td>\n",
              "      <td>246.550003</td>\n",
              "      <td>245.179993</td>\n",
              "      <td>24970200.0</td>\n",
              "      <td>244.615158</td>\n",
              "    </tr>\n",
              "    <tr>\n",
              "      <th>2021-05-18</th>\n",
              "      <td>246.410004</td>\n",
              "      <td>242.899994</td>\n",
              "      <td>246.270004</td>\n",
              "      <td>243.080002</td>\n",
              "      <td>20168000.0</td>\n",
              "      <td>242.520004</td>\n",
              "    </tr>\n",
              "    <tr>\n",
              "      <th>2021-05-19</th>\n",
              "      <td>243.229996</td>\n",
              "      <td>238.600006</td>\n",
              "      <td>239.309998</td>\n",
              "      <td>243.119995</td>\n",
              "      <td>25739800.0</td>\n",
              "      <td>243.119995</td>\n",
              "    </tr>\n",
              "    <tr>\n",
              "      <th>2021-05-20</th>\n",
              "      <td>247.949997</td>\n",
              "      <td>243.860001</td>\n",
              "      <td>243.960007</td>\n",
              "      <td>246.479996</td>\n",
              "      <td>21800700.0</td>\n",
              "      <td>246.479996</td>\n",
              "    </tr>\n",
              "  </tbody>\n",
              "</table>\n",
              "<p>2361 rows × 6 columns</p>\n",
              "</div>"
            ],
            "text/plain": [
              "                  High         Low  ...      Volume   Adj Close\n",
              "Date                                ...                        \n",
              "2012-01-03   26.959999   26.389999  ...  64731500.0   21.749044\n",
              "2012-01-04   27.469999   26.780001  ...  80516100.0   22.260885\n",
              "2012-01-05   27.730000   27.290001  ...  56081400.0   22.488358\n",
              "2012-01-06   28.190001   27.530001  ...  99455500.0   22.837715\n",
              "2012-01-09   28.100000   27.719999  ...  59706800.0   22.537107\n",
              "...                ...         ...  ...         ...         ...\n",
              "2021-05-14  249.179993  245.490005  ...  23901100.0  247.578308\n",
              "2021-05-17  246.589996  243.520004  ...  24970200.0  244.615158\n",
              "2021-05-18  246.410004  242.899994  ...  20168000.0  242.520004\n",
              "2021-05-19  243.229996  238.600006  ...  25739800.0  243.119995\n",
              "2021-05-20  247.949997  243.860001  ...  21800700.0  246.479996\n",
              "\n",
              "[2361 rows x 6 columns]"
            ]
          },
          "metadata": {
            "tags": []
          },
          "execution_count": 28
        }
      ]
    },
    {
      "cell_type": "code",
      "metadata": {
        "colab": {
          "base_uri": "https://localhost:8080/",
          "height": 513
        },
        "id": "Sqpe5urv4jKM",
        "outputId": "f838d5be-f374-4ee3-931f-a169d7c624bc"
      },
      "source": [
        "plt.figure(figsize=(16,8))\n",
        "plt.title('Historical Close Price')\n",
        "plt.plot(df['Close'])\n",
        "plt.xlabel('Date')\n",
        "plt.ylabel('Close Price ($)')\n",
        "plt.show()"
      ],
      "execution_count": 29,
      "outputs": [
        {
          "output_type": "display_data",
          "data": {
            "image/png": "[encoded data removed]",
            "text/plain": [
              "<Figure size 1152x576 with 1 Axes>"
            ]
          },
          "metadata": {
            "tags": [],
            "needs_background": "light"
          }
        }
      ]
    },
    {
      "cell_type": "code",
      "metadata": {
        "id": "bFDsri2Y47Lw"
      },
      "source": [
        "data = df.filter(['Close'])\n",
        "dataset = data.values\n",
        "train_data_len = math.ceil(len(dataset) * 0.8)"
      ],
      "execution_count": 30,
      "outputs": []
    },
    {
      "cell_type": "code",
      "metadata": {
        "colab": {
          "base_uri": "https://localhost:8080/"
        },
        "id": "LJjGDOju5O0f",
        "outputId": "3948f41a-0a45-4e0a-c018-b0d9de160071"
      },
      "source": [
        "scaler = MinMaxScaler(feature_range=(0,1))\n",
        "scaled_data = scaler.fit_transform(dataset)\n",
        "\n",
        "scaled_data"
      ],
      "execution_count": 31,
      "outputs": [
        {
          "output_type": "execute_result",
          "data": {
            "text/plain": [
              "array([[0.00169779],\n",
              "       [0.00437181],\n",
              "       [0.00556027],\n",
              "       ...,\n",
              "       [0.91982173],\n",
              "       [0.91999149],\n",
              "       [0.93425295]])"
            ]
          },
          "metadata": {
            "tags": []
          },
          "execution_count": 31
        }
      ]
    },
    {
      "cell_type": "code",
      "metadata": {
        "id": "bnkEN4Ct5jy0"
      },
      "source": [
        "train_data = scaled_data[0:train_data_len, :]\n",
        "x_train = []\n",
        "y_train = []\n",
        "\n",
        "for i in range(60, len(train_data)):\n",
        "  x_train.append(train_data[i-60:i, 0])\n",
        "  y_train.append(train_data[i])"
      ],
      "execution_count": 32,
      "outputs": []
    },
    {
      "cell_type": "code",
      "metadata": {
        "id": "VOvQOWiN6L2m"
      },
      "source": [
        "x_train, y_train = np.array(x_train), np.array(y_train)\n",
        "x_train = np.reshape(x_train, (x_train.shape[0], x_train.shape[1], 1))"
      ],
      "execution_count": 33,
      "outputs": []
    },
    {
      "cell_type": "code",
      "metadata": {
        "id": "iED6kAsa6gjb"
      },
      "source": [
        "model = Sequential()\n",
        "model.add(LSTM(50, return_sequences=True, input_shape=(x_train.shape[1], 1)))\n",
        "model.add(LSTM(50, return_sequences=False))\n",
        "model.add(Dense(25))\n",
        "model.add(Dense(1))"
      ],
      "execution_count": 34,
      "outputs": []
    },
    {
      "cell_type": "code",
      "metadata": {
        "id": "M1ke8tj07Fgk"
      },
      "source": [
        "model.compile(optimizer='adam', loss='mean_squared_error')"
      ],
      "execution_count": 37,
      "outputs": []
    },
    {
      "cell_type": "code",
      "metadata": {
        "colab": {
          "base_uri": "https://localhost:8080/"
        },
        "id": "PaLwk4lZ9DBd",
        "outputId": "e6b1025a-4a6b-421c-973c-a28c3ec5e27a"
      },
      "source": [
        "model.fit(x_train, y_train, batch_size=1, epochs=1)"
      ],
      "execution_count": 38,
      "outputs": [
        {
          "output_type": "stream",
          "text": [
            "1829/1829 [==============================] - 61s 28ms/step - loss: 8.3477e-04\n"
          ],
          "name": "stdout"
        },
        {
          "output_type": "execute_result",
          "data": {
            "text/plain": [
              "<keras.callbacks.History at 0x7f613d701590>"
            ]
          },
          "metadata": {
            "tags": []
          },
          "execution_count": 38
        }
      ]
    },
    {
      "cell_type": "code",
      "metadata": {
        "id": "w1LvzJ6A9POH"
      },
      "source": [
        "test_data = scaled_data[train_data_len - 60: , :]\n",
        "x_test = []\n",
        "y_test = dataset[train_data_len: , :]\n",
        "for i in range(60, len(test_data)):\n",
        "  x_test.append(test_data[i-60:i, 0])"
      ],
      "execution_count": 39,
      "outputs": []
    },
    {
      "cell_type": "code",
      "metadata": {
        "colab": {
          "base_uri": "https://localhost:8080/"
        },
        "id": "dJvv0Z5298Jl",
        "outputId": "01ec1644-c066-45cb-f0e1-29419222e78e"
      },
      "source": [
        "x_test = np.array(x_test)\n",
        "x_test = np.reshape(x_test, (x_test.shape[0], x_test.shape[1], 1))\n",
        "x_test.shape"
      ],
      "execution_count": 40,
      "outputs": [
        {
          "output_type": "execute_result",
          "data": {
            "text/plain": [
              "(472, 60, 1)"
            ]
          },
          "metadata": {
            "tags": []
          },
          "execution_count": 40
        }
      ]
    },
    {
      "cell_type": "code",
      "metadata": {
        "id": "KSlCnF_d-Q4A"
      },
      "source": [
        "predictions = model.predict(x_test)\n",
        "predictions = scaler.inverse_transform(predictions)"
      ],
      "execution_count": 41,
      "outputs": []
    },
    {
      "cell_type": "code",
      "metadata": {
        "colab": {
          "base_uri": "https://localhost:8080/"
        },
        "id": "QYS5qptn-f5T",
        "outputId": "09f396f0-9308-47a1-d24c-d044a3f07512"
      },
      "source": [
        "rmse = np.sqrt(np.mean(predictions - y_test) ** 2)\n",
        "rmse"
      ],
      "execution_count": 43,
      "outputs": [
        {
          "output_type": "execute_result",
          "data": {
            "text/plain": [
              "3.7726658320022843"
            ]
          },
          "metadata": {
            "tags": []
          },
          "execution_count": 43
        }
      ]
    },
    {
      "cell_type": "code",
      "metadata": {
        "colab": {
          "base_uri": "https://localhost:8080/",
          "height": 548
        },
        "id": "pCcqQwmV_D2I",
        "outputId": "64e4e321-45aa-49c5-d451-fca3e67b3016"
      },
      "source": [
        "train = data[: train_data_len]\n",
        "valid = data[train_data_len: ]\n",
        "valid['Predictions'] = predictions\n",
        "\n",
        "valid"
      ],
      "execution_count": 48,
      "outputs": [
        {
          "output_type": "stream",
          "text": [
            "/usr/local/lib/python3.7/dist-packages/ipykernel_launcher.py:3: SettingWithCopyWarning: \n",
            "A value is trying to be set on a copy of a slice from a DataFrame.\n",
            "Try using .loc[row_indexer,col_indexer] = value instead\n",
            "\n",
            "See the caveats in the documentation: https://pandas.pydata.org/pandas-docs/stable/user_guide/indexing.html#returning-a-view-versus-a-copy\n",
            "  This is separate from the ipykernel package so we can avoid doing imports until\n"
          ],
          "name": "stderr"
        },
        {
          "output_type": "execute_result",
          "data": {
            "text/html": [
              "<div>\n",
              "<style scoped>\n",
              "    .dataframe tbody tr th:only-of-type {\n",
              "        vertical-align: middle;\n",
              "    }\n",
              "\n",
              "    .dataframe tbody tr th {\n",
              "        vertical-align: top;\n",
              "    }\n",
              "\n",
              "    .dataframe thead th {\n",
              "        text-align: right;\n",
              "    }\n",
              "</style>\n",
              "<table border=\"1\" class=\"dataframe\">\n",
              "  <thead>\n",
              "    <tr style=\"text-align: right;\">\n",
              "      <th></th>\n",
              "      <th>Close</th>\n",
              "      <th>Predictions</th>\n",
              "    </tr>\n",
              "    <tr>\n",
              "      <th>Date</th>\n",
              "      <th></th>\n",
              "      <th></th>\n",
              "    </tr>\n",
              "  </thead>\n",
              "  <tbody>\n",
              "    <tr>\n",
              "      <th>2019-07-09</th>\n",
              "      <td>136.460007</td>\n",
              "      <td>135.143890</td>\n",
              "    </tr>\n",
              "    <tr>\n",
              "      <th>2019-07-10</th>\n",
              "      <td>137.850006</td>\n",
              "      <td>135.349304</td>\n",
              "    </tr>\n",
              "    <tr>\n",
              "      <th>2019-07-11</th>\n",
              "      <td>138.399994</td>\n",
              "      <td>135.612473</td>\n",
              "    </tr>\n",
              "    <tr>\n",
              "      <th>2019-07-12</th>\n",
              "      <td>138.899994</td>\n",
              "      <td>135.929901</td>\n",
              "    </tr>\n",
              "    <tr>\n",
              "      <th>2019-07-15</th>\n",
              "      <td>138.899994</td>\n",
              "      <td>136.292877</td>\n",
              "    </tr>\n",
              "    <tr>\n",
              "      <th>...</th>\n",
              "      <td>...</td>\n",
              "      <td>...</td>\n",
              "    </tr>\n",
              "    <tr>\n",
              "      <th>2021-05-14</th>\n",
              "      <td>248.149994</td>\n",
              "      <td>240.912521</td>\n",
              "    </tr>\n",
              "    <tr>\n",
              "      <th>2021-05-17</th>\n",
              "      <td>245.179993</td>\n",
              "      <td>240.380081</td>\n",
              "    </tr>\n",
              "    <tr>\n",
              "      <th>2021-05-18</th>\n",
              "      <td>243.080002</td>\n",
              "      <td>239.945358</td>\n",
              "    </tr>\n",
              "    <tr>\n",
              "      <th>2021-05-19</th>\n",
              "      <td>243.119995</td>\n",
              "      <td>239.445663</td>\n",
              "    </tr>\n",
              "    <tr>\n",
              "      <th>2021-05-20</th>\n",
              "      <td>246.479996</td>\n",
              "      <td>238.968399</td>\n",
              "    </tr>\n",
              "  </tbody>\n",
              "</table>\n",
              "<p>472 rows × 2 columns</p>\n",
              "</div>"
            ],
            "text/plain": [
              "                 Close  Predictions\n",
              "Date                               \n",
              "2019-07-09  136.460007   135.143890\n",
              "2019-07-10  137.850006   135.349304\n",
              "2019-07-11  138.399994   135.612473\n",
              "2019-07-12  138.899994   135.929901\n",
              "2019-07-15  138.899994   136.292877\n",
              "...                ...          ...\n",
              "2021-05-14  248.149994   240.912521\n",
              "2021-05-17  245.179993   240.380081\n",
              "2021-05-18  243.080002   239.945358\n",
              "2021-05-19  243.119995   239.445663\n",
              "2021-05-20  246.479996   238.968399\n",
              "\n",
              "[472 rows x 2 columns]"
            ]
          },
          "metadata": {
            "tags": []
          },
          "execution_count": 48
        }
      ]
    },
    {
      "cell_type": "code",
      "metadata": {
        "colab": {
          "base_uri": "https://localhost:8080/",
          "height": 513
        },
        "id": "PL_l2dgz_Sqk",
        "outputId": "90b5a192-7803-4043-f1ef-0458232508bc"
      },
      "source": [
        "plt.figure(figsize=(16,8))\n",
        "plt.title('Model')\n",
        "plt.xlabel('Date')\n",
        "plt.ylabel('Close Price ($)')\n",
        "plt.plot(train['Close'])\n",
        "plt.plot(valid[['Close', 'Predictions']])\n",
        "plt.legend(['Train', 'Valid', 'Predictions'], loc='lower right')\n",
        "plt.show()"
      ],
      "execution_count": 49,
      "outputs": [
        {
          "output_type": "display_data",
          "data": {
            "image/png": "[encoded data removed]",
            "text/plain": [
              "<Figure size 1152x576 with 1 Axes>"
            ]
          },
          "metadata": {
            "tags": [],
            "needs_background": "light"
          }
        }
      ]
    },
    {
      "cell_type": "markdown",
      "metadata": {
        "id": "kyHS5EdDBCNZ"
      },
      "source": [
        "Predict price on 2021-06-01"
      ]
    },
    {
      "cell_type": "code",
      "metadata": {
        "colab": {
          "base_uri": "https://localhost:8080/"
        },
        "id": "D9z0bjZM_7MW",
        "outputId": "b5386fcf-2a23-4e88-cb4e-b9b7619daf9f"
      },
      "source": [
        "msft_quote = web.DataReader('MSFT', data_source='yahoo', start='2012-01-01', end='2021-05-31')\n",
        "new_df = msft_quote.filter(['Close'])\n",
        "last_60_days = new_df[-60:].values\n",
        "last_60_days_scaled = scaler.transform(last_60_days)\n",
        "new_x_test = []\n",
        "new_x_test.append(last_60_days_scaled)\n",
        "new_x_test = np.array(new_x_test)\n",
        "new_x_test = np.reshape(new_x_test, (new_x_test.shape[0], new_x_test.shape[1], 1))\n",
        "pred = model.predict(new_x_test)\n",
        "pred = scaler.inverse_transform(pred)\n",
        "print(pred)"
      ],
      "execution_count": 50,
      "outputs": [
        {
          "output_type": "stream",
          "text": [
            "[[241.67766]]\n"
          ],
          "name": "stdout"
        }
      ]
    },
    {
      "cell_type": "code",
      "metadata": {
        "colab": {
          "base_uri": "https://localhost:8080/"
        },
        "id": "Kg80ooG1CZ2J",
        "outputId": "67198aba-3851-4f01-db2d-b527251fc6cf"
      },
      "source": [
        "real_quote = web.DataReader('MSFT', data_source='yahoo', start='2021-06-01', end='2021-06-01')\n",
        "print(real_quote['Close'])"
      ],
      "execution_count": 52,
      "outputs": [
        {
          "output_type": "stream",
          "text": [
            "Date\n",
            "2021-06-01    247.399994\n",
            "Name: Close, dtype: float64\n"
          ],
          "name": "stdout"
        }
      ]
    }
  ]
}